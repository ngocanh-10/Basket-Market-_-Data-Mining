<<<<<<< HEAD
{
 "cells": [
  {
   "cell_type": "code",
   "execution_count": 1,
   "id": "initial_id",
   "metadata": {
    "collapsed": true,
    "ExecuteTime": {
     "end_time": "2024-05-16T12:07:08.535391Z",
     "start_time": "2024-05-16T12:07:08.201949Z"
    }
   },
   "outputs": [],
   "source": [
    "import numpy as np\n",
    "import pandas as pd\n",
    "from time import sleep\n",
    "import random\n",
    "from selenium import webdriver\n",
    "from selenium.webdriver.common.by import By\n",
    "from selenium.webdriver.chrome.service import Service\n",
    "from selenium.common.exceptions import NoSuchElementException, ElementNotInteractableException"
   ]
  },
  {
   "cell_type": "code",
   "outputs": [
    {
     "name": "stderr",
     "output_type": "stream",
     "text": [
      "<>:1: SyntaxWarning: invalid escape sequence '\\P'\n",
      "<>:1: SyntaxWarning: invalid escape sequence '\\P'\n",
      "C:\\Users\\VNC\\AppData\\Local\\Temp\\ipykernel_22524\\1880160706.py:1: SyntaxWarning: invalid escape sequence '\\P'\n",
      "  service = Service(executable_path='D:\\PyCharmProfessional\\Projects\\DataMining\\Custome_Behavior_PJ\\chromedriver-win64\\chromedriver.exe')\n"
     ]
    }
   ],
   "source": [
    "service = Service(executable_path='D:\\PyCharmProfessional\\Projects\\DataMining\\Custome_Behavior_PJ\\chromedriver-win64\\chromedriver.exe')\n",
    "driver = webdriver.Chrome(service=service)"
   ],
   "metadata": {
    "collapsed": false,
    "ExecuteTime": {
     "end_time": "2024-05-16T12:22:40.858675Z",
     "start_time": "2024-05-16T12:22:37.195247Z"
    }
   },
   "id": "e5a5bf55d8983ef7",
   "execution_count": 16
  },
  {
   "cell_type": "code",
   "outputs": [],
   "source": [
    "driver.get('https://eshop.acecookvietnam.vn/collections/all')\n",
    "sleep(random.randint(5,10))"
   ],
   "metadata": {
    "collapsed": false,
    "ExecuteTime": {
     "end_time": "2024-05-16T12:23:00.870762Z",
     "start_time": "2024-05-16T12:22:43.172811Z"
    }
   },
   "id": "410f5397cac2fe9c",
   "execution_count": 17
  },
  {
   "cell_type": "code",
   "outputs": [],
   "source": [
    "next_product = driver.find_element('xpath', '//*[@id=\"collection-body\"]/div/div/div[2]/div[2]/div[2]/a')\n",
    "next_product.click()"
   ],
   "metadata": {
    "collapsed": false,
    "ExecuteTime": {
     "end_time": "2024-05-15T06:28:09.616466Z",
     "start_time": "2024-05-15T06:28:08.308476Z"
    }
   },
   "id": "5dcdccf9bf821374",
   "execution_count": 4
  },
  {
   "cell_type": "code",
   "outputs": [
    {
     "name": "stdout",
     "output_type": "stream",
     "text": [
      "Crawl Page1\n",
      "Crawl Page2\n",
      "Crawl Page3\n",
      "Crawl Page4\n",
      "Crawl Page5\n",
      "Crawl Page6\n",
      "Crawl Page7\n",
      "Crawl Page8\n",
      "Crawl Page9\n",
      "Element Not Interactable Exception\n"
     ]
    }
   ],
   "source": [
    "count = 1\n",
    "links, title, price, image = [], [], [], []\n",
    "\n",
    "while True:\n",
    "    try:\n",
    "        print(\"Crawl Page\" + str(count))\n",
    "        next_product = driver.find_element('xpath', '/html/body/div[1]/main/div/div[2]/div/div/div/div[2]/div[2]/div[2]/a')\n",
    "        next_product.click()\n",
    "        sleep(random.randint(5,10))\n",
    "        count += 1\n",
    "    except ElementNotInteractableException:\n",
    "        print(\"Element Not Interactable Exception\")\n",
    "        break\n",
    "elems = driver.find_elements(By.CSS_SELECTOR, \".proloop-image [href]\")\n",
    "links = [elem.get_attribute('href') for elem in elems]\n",
    "title = [elem.get_attribute('title') for elem in elems]\n",
    "elems_price = driver.find_elements(By.CSS_SELECTOR, \".price\") \n",
    "price = [elem.text for elem in elems_price]\n",
    "# elems_img = driver.find_elements(By.CSS_SELECTOR, \".lazy-img.first-image\")\n",
    "elems_img2 = driver.find_elements(By.CSS_SELECTOR, \".product--image .lazy-img picture img\")\n",
    "image = [elem.get_attribute('src') for elem in elems_img2]"
   ],
   "metadata": {
    "collapsed": false,
    "ExecuteTime": {
     "end_time": "2024-05-16T12:24:40.354353Z",
     "start_time": "2024-05-16T12:23:20.101829Z"
    }
   },
   "id": "924392c6291dcca9",
   "execution_count": 18
  },
  {
   "cell_type": "code",
   "outputs": [
    {
     "data": {
      "text/plain": "82"
     },
     "execution_count": 19,
     "metadata": {},
     "output_type": "execute_result"
    }
   ],
   "source": [
    "image1 = image[0:40]\n",
    "image1_1 = image1[0::2]\n",
    "image2 = image[40:44]\n",
    "image3 = image[45:160]\n",
    "image3_3 = image3[0::2]\n",
    "add_image = image1_1 + image2 + image3_3\n",
    "len(add_image)"
   ],
   "metadata": {
    "collapsed": false,
    "ExecuteTime": {
     "end_time": "2024-05-16T12:24:42.236784Z",
     "start_time": "2024-05-16T12:24:42.213701Z"
    }
   },
   "id": "b56e216cb070f0c2",
   "execution_count": 19
  },
  {
   "cell_type": "code",
   "outputs": [
    {
     "data": {
      "text/plain": "'https://product.hstatic.net/200000610047/product/3d_khung__40__e062981a21e2429d904fa83c1c97f930_small.png'"
     },
     "execution_count": 157,
     "metadata": {},
     "output_type": "execute_result"
    }
   ],
   "source": [
    "image[44]\n",
    "# 40 41 42"
   ],
   "metadata": {
    "collapsed": false,
    "ExecuteTime": {
     "end_time": "2024-05-16T11:49:25.557907Z",
     "start_time": "2024-05-16T11:49:25.548166Z"
    }
   },
   "id": "253a8c66bd87a1f8",
   "execution_count": 157
  },
  {
   "cell_type": "code",
   "outputs": [
    {
     "name": "stdout",
     "output_type": "stream",
     "text": [
      "['156000' '228000' '228000' '135000' '135000' '312000' '234000' '234000'\n",
      " '204000' '192000' '135000' '102000' '40000' '40000' '36000' '36000'\n",
      " '44000' '52000' '40000' '22000' '63000' '74000' '59000' '57500' '288000'\n",
      " '288000' '135000' '312000' '135000' '135000' '240000' '270000' '180000'\n",
      " '270000' '270000' '270000' '270000' '240000' '144000' '144000' '228000'\n",
      " '228000' '240000' '360000' '360000' '312000' '240000' '180000' '180000'\n",
      " '180000' '240000' '240000' '192000' '192000' '192000' '135000' '480000'\n",
      " '480000' '60000' '60000' '312000' '312000' '270000' '270000' '192000'\n",
      " '192000' '132000' '132000' '264000' '264000' '264000' '264000' '264000'\n",
      " '336000' '336000' '69000' '83000' '58000' '220000' '57000' '300000'\n",
      " '408000']\n"
     ]
    }
   ],
   "source": [
    "# Hàm chuyển đổi giá trị từ chuỗi sang số nguyên\n",
    "def convert_price(price_str):\n",
    "    cleaned_price_str = np.char.replace(price_str, '₫', '')\n",
    "    cleaned_price_str = np.char.replace(cleaned_price_str, ',', '')\n",
    "    return cleaned_price_str\n",
    "\n",
    "# Áp dụng hàm chuyển đổi cho mảng giá\n",
    "prices_cleaned_str = convert_price(price)\n",
    "\n",
    "print(prices_cleaned_str)"
   ],
   "metadata": {
    "collapsed": false,
    "ExecuteTime": {
     "end_time": "2024-05-16T12:24:53.965145Z",
     "start_time": "2024-05-16T12:24:53.934954Z"
    }
   },
   "id": "45ff17cc35c3f23a",
   "execution_count": 20
  },
  {
   "cell_type": "code",
   "outputs": [
    {
     "data": {
      "text/plain": "['156,000₫',\n '228,000₫',\n '228,000₫',\n '135,000₫',\n '135,000₫',\n '312,000₫',\n '234,000₫',\n '234,000₫',\n '204,000₫',\n '192,000₫',\n '135,000₫',\n '102,000₫',\n '40,000₫',\n '40,000₫',\n '36,000₫',\n '36,000₫',\n '44,000₫',\n '52,000₫',\n '40,000₫',\n '22,000₫',\n '63,000₫',\n '74,000₫',\n '59,000₫',\n '57,500₫',\n '288,000₫',\n '288,000₫',\n '135,000₫',\n '312,000₫',\n '135,000₫',\n '135,000₫',\n '240,000₫',\n '270,000₫',\n '180,000₫',\n '270,000₫',\n '270,000₫',\n '270,000₫',\n '270,000₫',\n '240,000₫',\n '144,000₫',\n '144,000₫',\n '228,000₫',\n '228,000₫',\n '240,000₫',\n '360,000₫',\n '360,000₫',\n '312,000₫',\n '240,000₫',\n '180,000₫',\n '180,000₫',\n '180,000₫',\n '240,000₫',\n '240,000₫',\n '192,000₫',\n '192,000₫',\n '192,000₫',\n '135,000₫',\n '480,000₫',\n '480,000₫',\n '60,000₫',\n '60,000₫',\n '312,000₫',\n '312,000₫',\n '270,000₫',\n '270,000₫',\n '192,000₫',\n '192,000₫',\n '132,000₫',\n '132,000₫',\n '264,000₫',\n '264,000₫',\n '264,000₫',\n '264,000₫',\n '264,000₫',\n '336,000₫',\n '336,000₫',\n '69,000₫',\n '83,000₫',\n '58,000₫',\n '220,000₫',\n '57,000₫',\n '300,000₫',\n '408,000₫']"
     },
     "execution_count": 25,
     "metadata": {},
     "output_type": "execute_result"
    }
   ],
   "source": [
    "price"
   ],
   "metadata": {
    "collapsed": false,
    "ExecuteTime": {
     "end_time": "2024-05-16T09:20:19.985106Z",
     "start_time": "2024-05-16T09:20:19.966326Z"
    }
   },
   "id": "cb9962d43bb87873",
   "execution_count": 25
  },
  {
   "cell_type": "code",
   "outputs": [],
   "source": [
    "df1 = pd.DataFrame(list(zip(links[1::2], title[1::2], price, add_image)), columns=['link', 'title', 'price', 'image'])\n",
    "def convert_price(price_str):\n",
    "    cleaned_price_str = price_str.replace('₫', '').replace(',', '')\n",
    "    return int(cleaned_price_str)\n",
    "\n",
    "# Áp dụng hàm chuyển đổi cho cột 'price'\n",
    "df1['price'] = df1['price'].apply(convert_price)"
   ],
   "metadata": {
    "collapsed": false,
    "ExecuteTime": {
     "end_time": "2024-05-16T12:25:03.042463Z",
     "start_time": "2024-05-16T12:25:02.969535Z"
    }
   },
   "id": "77483d5d521bafce",
   "execution_count": 21
  },
  {
   "cell_type": "code",
   "outputs": [
    {
     "data": {
      "text/plain": "                                                 link  \\\n0   https://eshop.acecookvietnam.vn/products/thung...   \n1   https://eshop.acecookvietnam.vn/products/thung...   \n2   https://eshop.acecookvietnam.vn/products/thung...   \n3   https://eshop.acecookvietnam.vn/products/thung...   \n4   https://eshop.acecookvietnam.vn/products/thung...   \n..                                                ...   \n77  https://eshop.acecookvietnam.vn/products/combo...   \n78  https://eshop.acecookvietnam.vn/products/bun-h...   \n79  https://eshop.acecookvietnam.vn/products/hao-h...   \n80  https://eshop.acecookvietnam.vn/products/de-nh...   \n81  https://eshop.acecookvietnam.vn/products/muoi-...   \n\n                                               title   price  \\\n0   Thùng 12 Tô Mì Nhớ Mãi Mãi Hương Vị Lẩu Thái 84g  156000   \n1      Thùng 24 ly Handy Hảo Hảo Hương Vị Tomyum 67g  228000   \n2         Thùng 24 ly Handy Hảo Hảo Tôm Chua Cay 67g  228000   \n3   Thùng 30 gói Hảo Hảo Hương Vị Sa Tế Hành Tím 75g  135000   \n4     Thùng 30 gói Hảo Hảo Chay Hương Vị Rau Nấm 74g  135000   \n..                                               ...     ...   \n77                                      Combo Trẻ Em   58000   \n78     Thùng 10 Block Bún Tươi Sấy Khô Hằng Nga 200g  220000   \n79                                    Combo Hảo Hảo    57000   \n80  Thùng 30 gói Đệ Nhất Phở Đặc Biệt Bò Tái Lăn 68g  300000   \n81               Thùng 24 hộp Muối Chấm Hảo Hảo 120g  408000   \n\n                                                image  \n0   https://product.hstatic.net/200000610047/produ...  \n1   https://product.hstatic.net/200000610047/produ...  \n2   https://product.hstatic.net/200000610047/produ...  \n3   https://product.hstatic.net/200000610047/produ...  \n4   https://product.hstatic.net/200000610047/produ...  \n..                                                ...  \n77  https://product.hstatic.net/200000610047/produ...  \n78  https://product.hstatic.net/200000610047/produ...  \n79  https://product.hstatic.net/200000610047/produ...  \n80  https://product.hstatic.net/200000610047/produ...  \n81  https://product.hstatic.net/200000610047/produ...  \n\n[82 rows x 4 columns]",
      "text/html": "<div>\n<style scoped>\n    .dataframe tbody tr th:only-of-type {\n        vertical-align: middle;\n    }\n\n    .dataframe tbody tr th {\n        vertical-align: top;\n    }\n\n    .dataframe thead th {\n        text-align: right;\n    }\n</style>\n<table border=\"1\" class=\"dataframe\">\n  <thead>\n    <tr style=\"text-align: right;\">\n      <th></th>\n      <th>link</th>\n      <th>title</th>\n      <th>price</th>\n      <th>image</th>\n    </tr>\n  </thead>\n  <tbody>\n    <tr>\n      <th>0</th>\n      <td>https://eshop.acecookvietnam.vn/products/thung...</td>\n      <td>Thùng 12 Tô Mì Nhớ Mãi Mãi Hương Vị Lẩu Thái 84g</td>\n      <td>156000</td>\n      <td>https://product.hstatic.net/200000610047/produ...</td>\n    </tr>\n    <tr>\n      <th>1</th>\n      <td>https://eshop.acecookvietnam.vn/products/thung...</td>\n      <td>Thùng 24 ly Handy Hảo Hảo Hương Vị Tomyum 67g</td>\n      <td>228000</td>\n      <td>https://product.hstatic.net/200000610047/produ...</td>\n    </tr>\n    <tr>\n      <th>2</th>\n      <td>https://eshop.acecookvietnam.vn/products/thung...</td>\n      <td>Thùng 24 ly Handy Hảo Hảo Tôm Chua Cay 67g</td>\n      <td>228000</td>\n      <td>https://product.hstatic.net/200000610047/produ...</td>\n    </tr>\n    <tr>\n      <th>3</th>\n      <td>https://eshop.acecookvietnam.vn/products/thung...</td>\n      <td>Thùng 30 gói Hảo Hảo Hương Vị Sa Tế Hành Tím 75g</td>\n      <td>135000</td>\n      <td>https://product.hstatic.net/200000610047/produ...</td>\n    </tr>\n    <tr>\n      <th>4</th>\n      <td>https://eshop.acecookvietnam.vn/products/thung...</td>\n      <td>Thùng 30 gói Hảo Hảo Chay Hương Vị Rau Nấm 74g</td>\n      <td>135000</td>\n      <td>https://product.hstatic.net/200000610047/produ...</td>\n    </tr>\n    <tr>\n      <th>...</th>\n      <td>...</td>\n      <td>...</td>\n      <td>...</td>\n      <td>...</td>\n    </tr>\n    <tr>\n      <th>77</th>\n      <td>https://eshop.acecookvietnam.vn/products/combo...</td>\n      <td>Combo Trẻ Em</td>\n      <td>58000</td>\n      <td>https://product.hstatic.net/200000610047/produ...</td>\n    </tr>\n    <tr>\n      <th>78</th>\n      <td>https://eshop.acecookvietnam.vn/products/bun-h...</td>\n      <td>Thùng 10 Block Bún Tươi Sấy Khô Hằng Nga 200g</td>\n      <td>220000</td>\n      <td>https://product.hstatic.net/200000610047/produ...</td>\n    </tr>\n    <tr>\n      <th>79</th>\n      <td>https://eshop.acecookvietnam.vn/products/hao-h...</td>\n      <td>Combo Hảo Hảo</td>\n      <td>57000</td>\n      <td>https://product.hstatic.net/200000610047/produ...</td>\n    </tr>\n    <tr>\n      <th>80</th>\n      <td>https://eshop.acecookvietnam.vn/products/de-nh...</td>\n      <td>Thùng 30 gói Đệ Nhất Phở Đặc Biệt Bò Tái Lăn 68g</td>\n      <td>300000</td>\n      <td>https://product.hstatic.net/200000610047/produ...</td>\n    </tr>\n    <tr>\n      <th>81</th>\n      <td>https://eshop.acecookvietnam.vn/products/muoi-...</td>\n      <td>Thùng 24 hộp Muối Chấm Hảo Hảo 120g</td>\n      <td>408000</td>\n      <td>https://product.hstatic.net/200000610047/produ...</td>\n    </tr>\n  </tbody>\n</table>\n<p>82 rows × 4 columns</p>\n</div>"
     },
     "execution_count": 22,
     "metadata": {},
     "output_type": "execute_result"
    }
   ],
   "source": [
    "df1"
   ],
   "metadata": {
    "collapsed": false,
    "ExecuteTime": {
     "end_time": "2024-05-16T12:25:05.062332Z",
     "start_time": "2024-05-16T12:25:05.030176Z"
    }
   },
   "id": "bc0e032c8cb69dcf",
   "execution_count": 22
  },
  {
   "cell_type": "code",
   "outputs": [
    {
     "data": {
      "text/plain": "102"
     },
     "execution_count": 98,
     "metadata": {},
     "output_type": "execute_result"
    }
   ],
   "source": [
    "arr = []\n",
    "for i in image:\n",
    "    if i.endswith('png'):\n",
    "        arr.append(i)\n",
    "len(arr)"
   ],
   "metadata": {
    "collapsed": false,
    "ExecuteTime": {
     "end_time": "2024-05-16T10:47:57.142290Z",
     "start_time": "2024-05-16T10:47:57.100378Z"
    }
   },
   "id": "1f4554d07420b815",
   "execution_count": 98
  },
  {
   "cell_type": "code",
   "outputs": [
    {
     "data": {
      "text/plain": "                                                 link  \\\n0   https://eshop.acecookvietnam.vn/products/thung...   \n1   https://eshop.acecookvietnam.vn/products/thung...   \n2   https://eshop.acecookvietnam.vn/products/thung...   \n3   https://eshop.acecookvietnam.vn/products/thung...   \n4   https://eshop.acecookvietnam.vn/products/thung...   \n..                                                ...   \n77  https://eshop.acecookvietnam.vn/products/combo...   \n78  https://eshop.acecookvietnam.vn/products/bun-h...   \n79  https://eshop.acecookvietnam.vn/products/hao-h...   \n80  https://eshop.acecookvietnam.vn/products/de-nh...   \n81  https://eshop.acecookvietnam.vn/products/muoi-...   \n\n                                               title   price  \n0   Thùng 12 Tô Mì Nhớ Mãi Mãi Hương Vị Lẩu Thái 84g  156000  \n1      Thùng 24 ly Handy Hảo Hảo Hương Vị Tomyum 67g  228000  \n2         Thùng 24 ly Handy Hảo Hảo Tôm Chua Cay 67g  228000  \n3   Thùng 30 gói Hảo Hảo Hương Vị Sa Tế Hành Tím 75g  135000  \n4     Thùng 30 gói Hảo Hảo Chay Hương Vị Rau Nấm 74g  135000  \n..                                               ...     ...  \n77                                      Combo Trẻ Em   58000  \n78     Thùng 10 Block Bún Tươi Sấy Khô Hằng Nga 200g  220000  \n79                                    Combo Hảo Hảo    57000  \n80  Thùng 30 gói Đệ Nhất Phở Đặc Biệt Bò Tái Lăn 68g  300000  \n81               Thùng 24 hộp Muối Chấm Hảo Hảo 120g  408000  \n\n[82 rows x 3 columns]",
      "text/html": "<div>\n<style scoped>\n    .dataframe tbody tr th:only-of-type {\n        vertical-align: middle;\n    }\n\n    .dataframe tbody tr th {\n        vertical-align: top;\n    }\n\n    .dataframe thead th {\n        text-align: right;\n    }\n</style>\n<table border=\"1\" class=\"dataframe\">\n  <thead>\n    <tr style=\"text-align: right;\">\n      <th></th>\n      <th>link</th>\n      <th>title</th>\n      <th>price</th>\n    </tr>\n  </thead>\n  <tbody>\n    <tr>\n      <th>0</th>\n      <td>https://eshop.acecookvietnam.vn/products/thung...</td>\n      <td>Thùng 12 Tô Mì Nhớ Mãi Mãi Hương Vị Lẩu Thái 84g</td>\n      <td>156000</td>\n    </tr>\n    <tr>\n      <th>1</th>\n      <td>https://eshop.acecookvietnam.vn/products/thung...</td>\n      <td>Thùng 24 ly Handy Hảo Hảo Hương Vị Tomyum 67g</td>\n      <td>228000</td>\n    </tr>\n    <tr>\n      <th>2</th>\n      <td>https://eshop.acecookvietnam.vn/products/thung...</td>\n      <td>Thùng 24 ly Handy Hảo Hảo Tôm Chua Cay 67g</td>\n      <td>228000</td>\n    </tr>\n    <tr>\n      <th>3</th>\n      <td>https://eshop.acecookvietnam.vn/products/thung...</td>\n      <td>Thùng 30 gói Hảo Hảo Hương Vị Sa Tế Hành Tím 75g</td>\n      <td>135000</td>\n    </tr>\n    <tr>\n      <th>4</th>\n      <td>https://eshop.acecookvietnam.vn/products/thung...</td>\n      <td>Thùng 30 gói Hảo Hảo Chay Hương Vị Rau Nấm 74g</td>\n      <td>135000</td>\n    </tr>\n    <tr>\n      <th>...</th>\n      <td>...</td>\n      <td>...</td>\n      <td>...</td>\n    </tr>\n    <tr>\n      <th>77</th>\n      <td>https://eshop.acecookvietnam.vn/products/combo...</td>\n      <td>Combo Trẻ Em</td>\n      <td>58000</td>\n    </tr>\n    <tr>\n      <th>78</th>\n      <td>https://eshop.acecookvietnam.vn/products/bun-h...</td>\n      <td>Thùng 10 Block Bún Tươi Sấy Khô Hằng Nga 200g</td>\n      <td>220000</td>\n    </tr>\n    <tr>\n      <th>79</th>\n      <td>https://eshop.acecookvietnam.vn/products/hao-h...</td>\n      <td>Combo Hảo Hảo</td>\n      <td>57000</td>\n    </tr>\n    <tr>\n      <th>80</th>\n      <td>https://eshop.acecookvietnam.vn/products/de-nh...</td>\n      <td>Thùng 30 gói Đệ Nhất Phở Đặc Biệt Bò Tái Lăn 68g</td>\n      <td>300000</td>\n    </tr>\n    <tr>\n      <th>81</th>\n      <td>https://eshop.acecookvietnam.vn/products/muoi-...</td>\n      <td>Thùng 24 hộp Muối Chấm Hảo Hảo 120g</td>\n      <td>408000</td>\n    </tr>\n  </tbody>\n</table>\n<p>82 rows × 3 columns</p>\n</div>"
     },
     "execution_count": 80,
     "metadata": {},
     "output_type": "execute_result"
    }
   ],
   "source": [
    "df1"
   ],
   "metadata": {
    "collapsed": false,
    "ExecuteTime": {
     "end_time": "2024-05-16T10:21:54.588603Z",
     "start_time": "2024-05-16T10:21:54.562018Z"
    }
   },
   "id": "f11968fc987095ab",
   "execution_count": 80
  },
  {
   "cell_type": "code",
   "outputs": [],
   "source": [
    "links = links[1::2]"
   ],
   "metadata": {
    "collapsed": false,
    "ExecuteTime": {
     "end_time": "2024-05-16T12:25:26.468341Z",
     "start_time": "2024-05-16T12:25:26.463846Z"
    }
   },
   "id": "f52d90bac3fe857a",
   "execution_count": 23
  },
  {
   "cell_type": "code",
   "outputs": [
    {
     "data": {
      "text/plain": "82"
     },
     "execution_count": 12,
     "metadata": {},
     "output_type": "execute_result"
    }
   ],
   "source": [
    "len(links)"
   ],
   "metadata": {
    "collapsed": false,
    "ExecuteTime": {
     "end_time": "2024-05-16T12:16:57.903586Z",
     "start_time": "2024-05-16T12:16:57.892095Z"
    }
   },
   "id": "a8c481c08f94052f",
   "execution_count": 12
  },
  {
   "cell_type": "code",
   "outputs": [],
   "source": [
    "product_id = []"
   ],
   "metadata": {
    "collapsed": false,
    "ExecuteTime": {
     "end_time": "2024-05-16T12:25:28.991352Z",
     "start_time": "2024-05-16T12:25:28.986987Z"
    }
   },
   "id": "4383e42ef74ab37",
   "execution_count": 24
  },
  {
   "cell_type": "code",
   "outputs": [],
   "source": [
    "for link in links:\n",
    "    driver.get(link)\n",
    "    sleep(random.randint(5,10))\n",
    "    elems_id = driver.find_element(By.CSS_SELECTOR, \".product-heading strong\")\n",
    "    product_id.append(elems_id.text)"
   ],
   "metadata": {
    "collapsed": false,
    "ExecuteTime": {
     "end_time": "2024-05-16T12:38:49.145396Z",
     "start_time": "2024-05-16T12:25:30.278452Z"
    }
   },
   "id": "74e8b083a96596f3",
   "execution_count": 25
  },
  {
   "cell_type": "code",
   "outputs": [
    {
     "data": {
      "text/plain": "164"
     },
     "execution_count": 167,
     "metadata": {},
     "output_type": "execute_result"
    }
   ],
   "source": [
    "len(links)"
   ],
   "metadata": {
    "collapsed": false,
    "ExecuteTime": {
     "end_time": "2024-05-16T11:58:31.203885Z",
     "start_time": "2024-05-16T11:58:31.177322Z"
    }
   },
   "id": "308aebf288e0b01f",
   "execution_count": 167
  },
  {
   "cell_type": "code",
   "outputs": [
    {
     "data": {
      "text/plain": "370"
     },
     "execution_count": 11,
     "metadata": {},
     "output_type": "execute_result"
    }
   ],
   "source": [
    "len(product_id)"
   ],
   "metadata": {
    "collapsed": false,
    "ExecuteTime": {
     "end_time": "2024-05-15T06:49:12.951574Z",
     "start_time": "2024-05-15T06:49:12.931157Z"
    }
   },
   "id": "db79b0306ab0a2aa",
   "execution_count": 11
  },
  {
   "cell_type": "code",
   "outputs": [],
   "source": [],
   "metadata": {
    "collapsed": false
   },
   "id": "f0c753f7e538fd27"
  },
  {
   "cell_type": "code",
   "outputs": [
    {
     "data": {
      "text/plain": "                                         ProductName  ProductID   Price  \\\n0   Thùng 12 Tô Mì Nhớ Mãi Mãi Hương Vị Lẩu Thái 84g  500000811  156000   \n1      Thùng 24 ly Handy Hảo Hảo Hương Vị Tomyum 67g  500000781  228000   \n2         Thùng 24 ly Handy Hảo Hảo Tôm Chua Cay 67g  500000780  228000   \n3   Thùng 30 gói Hảo Hảo Hương Vị Sa Tế Hành Tím 75g  500001044  135000   \n4     Thùng 30 gói Hảo Hảo Chay Hương Vị Rau Nấm 74g  500000091  135000   \n..                                               ...        ...     ...   \n77                                      Combo Trẻ Em    CBTREEM   58000   \n78     Thùng 10 Block Bún Tươi Sấy Khô Hằng Nga 200g  500000048  220000   \n79                                    Combo Hảo Hảo    CBHAOHAO   57000   \n80  Thùng 30 gói Đệ Nhất Phở Đặc Biệt Bò Tái Lăn 68g  500000074  300000   \n81               Thùng 24 hộp Muối Chấm Hảo Hảo 120g  500000854  408000   \n\n                                                Image  \n0   https://product.hstatic.net/200000610047/produ...  \n1   https://product.hstatic.net/200000610047/produ...  \n2   https://product.hstatic.net/200000610047/produ...  \n3   https://product.hstatic.net/200000610047/produ...  \n4   https://product.hstatic.net/200000610047/produ...  \n..                                                ...  \n77  https://product.hstatic.net/200000610047/produ...  \n78  https://product.hstatic.net/200000610047/produ...  \n79  https://product.hstatic.net/200000610047/produ...  \n80  https://product.hstatic.net/200000610047/produ...  \n81  https://product.hstatic.net/200000610047/produ...  \n\n[82 rows x 4 columns]",
      "text/html": "<div>\n<style scoped>\n    .dataframe tbody tr th:only-of-type {\n        vertical-align: middle;\n    }\n\n    .dataframe tbody tr th {\n        vertical-align: top;\n    }\n\n    .dataframe thead th {\n        text-align: right;\n    }\n</style>\n<table border=\"1\" class=\"dataframe\">\n  <thead>\n    <tr style=\"text-align: right;\">\n      <th></th>\n      <th>ProductName</th>\n      <th>ProductID</th>\n      <th>Price</th>\n      <th>Image</th>\n    </tr>\n  </thead>\n  <tbody>\n    <tr>\n      <th>0</th>\n      <td>Thùng 12 Tô Mì Nhớ Mãi Mãi Hương Vị Lẩu Thái 84g</td>\n      <td>500000811</td>\n      <td>156000</td>\n      <td>https://product.hstatic.net/200000610047/produ...</td>\n    </tr>\n    <tr>\n      <th>1</th>\n      <td>Thùng 24 ly Handy Hảo Hảo Hương Vị Tomyum 67g</td>\n      <td>500000781</td>\n      <td>228000</td>\n      <td>https://product.hstatic.net/200000610047/produ...</td>\n    </tr>\n    <tr>\n      <th>2</th>\n      <td>Thùng 24 ly Handy Hảo Hảo Tôm Chua Cay 67g</td>\n      <td>500000780</td>\n      <td>228000</td>\n      <td>https://product.hstatic.net/200000610047/produ...</td>\n    </tr>\n    <tr>\n      <th>3</th>\n      <td>Thùng 30 gói Hảo Hảo Hương Vị Sa Tế Hành Tím 75g</td>\n      <td>500001044</td>\n      <td>135000</td>\n      <td>https://product.hstatic.net/200000610047/produ...</td>\n    </tr>\n    <tr>\n      <th>4</th>\n      <td>Thùng 30 gói Hảo Hảo Chay Hương Vị Rau Nấm 74g</td>\n      <td>500000091</td>\n      <td>135000</td>\n      <td>https://product.hstatic.net/200000610047/produ...</td>\n    </tr>\n    <tr>\n      <th>...</th>\n      <td>...</td>\n      <td>...</td>\n      <td>...</td>\n      <td>...</td>\n    </tr>\n    <tr>\n      <th>77</th>\n      <td>Combo Trẻ Em</td>\n      <td>CBTREEM</td>\n      <td>58000</td>\n      <td>https://product.hstatic.net/200000610047/produ...</td>\n    </tr>\n    <tr>\n      <th>78</th>\n      <td>Thùng 10 Block Bún Tươi Sấy Khô Hằng Nga 200g</td>\n      <td>500000048</td>\n      <td>220000</td>\n      <td>https://product.hstatic.net/200000610047/produ...</td>\n    </tr>\n    <tr>\n      <th>79</th>\n      <td>Combo Hảo Hảo</td>\n      <td>CBHAOHAO</td>\n      <td>57000</td>\n      <td>https://product.hstatic.net/200000610047/produ...</td>\n    </tr>\n    <tr>\n      <th>80</th>\n      <td>Thùng 30 gói Đệ Nhất Phở Đặc Biệt Bò Tái Lăn 68g</td>\n      <td>500000074</td>\n      <td>300000</td>\n      <td>https://product.hstatic.net/200000610047/produ...</td>\n    </tr>\n    <tr>\n      <th>81</th>\n      <td>Thùng 24 hộp Muối Chấm Hảo Hảo 120g</td>\n      <td>500000854</td>\n      <td>408000</td>\n      <td>https://product.hstatic.net/200000610047/produ...</td>\n    </tr>\n  </tbody>\n</table>\n<p>82 rows × 4 columns</p>\n</div>"
     },
     "execution_count": 35,
     "metadata": {},
     "output_type": "execute_result"
    }
   ],
   "source": [
    "df2 = pd.DataFrame(list(zip(title[1::2], product_id, price, add_image)), columns=['ProductName', 'ProductID', 'Price', 'Image'])\n",
    "df2['Price'] = df2['Price'].apply(convert_price)\n",
    "df2"
   ],
   "metadata": {
    "collapsed": false,
    "ExecuteTime": {
     "end_time": "2024-05-16T12:48:59.787874Z",
     "start_time": "2024-05-16T12:48:59.768243Z"
    }
   },
   "id": "f3fbedfe26932f76",
   "execution_count": 35
  },
  {
   "cell_type": "code",
   "outputs": [],
   "source": [
    "# Kết nối tới MongoDB\n",
    "from pymongo import MongoClient\n",
    "client = MongoClient('mongodb://localhost:27017/')\n",
    "mydb = client['customer_data']\n",
    "collect = mydb['product2']\n",
    "def postDataToMGBD(data, collection):\n",
    "    data_records = data.to_dict(orient='records')\n",
    "\n",
    "    # Chèn dữ liệu vào MongoDB\n",
    "    collection.insert_many(data_records)\n",
    "\n",
    "postDataToMGBD(df2, collect)"
   ],
   "metadata": {
    "collapsed": false,
    "ExecuteTime": {
     "end_time": "2024-05-16T12:49:26.342735Z",
     "start_time": "2024-05-16T12:49:26.252571Z"
    }
   },
   "id": "5723d46448fac30c",
   "execution_count": 36
  },
  {
   "cell_type": "code",
   "outputs": [
    {
     "data": {
      "text/plain": "'https://product.hstatic.net/200000610047/product/nho_mai_mai_lau_thai_tom_thung_va_goi_c06a7a6f55ab4d0dba035a509573d081_compact.jpg'"
     },
     "execution_count": 20,
     "metadata": {},
     "output_type": "execute_result"
    }
   ],
   "source": [
    "driver.get(links[0])\n",
    "elems_id = driver.find_element(By.CSS_SELECTOR, \".product-thumb__item img\")\n",
    "product_id = elems_id.get_attribute('src')\n",
    "product_id"
   ],
   "metadata": {
    "collapsed": false,
    "ExecuteTime": {
     "end_time": "2024-05-15T07:15:30.282183Z",
     "start_time": "2024-05-15T07:15:07.947591Z"
    }
   },
   "id": "e107de52b1b6679b",
   "execution_count": 20
  },
  {
   "cell_type": "code",
   "outputs": [
    {
     "data": {
      "text/plain": "UpdateResult({'n': 370, 'nModified': 370, 'ok': 1.0, 'updatedExisting': True}, acknowledged=True)"
     },
     "execution_count": 1,
     "metadata": {},
     "output_type": "execute_result"
    }
   ],
   "source": [
    "from pymongo import MongoClient\n",
    "client = MongoClient('mongodb://localhost:27017/')\n",
    "mydb = client['customer_data']\n",
    "collection = mydb['product2']"
   ],
   "metadata": {
    "collapsed": false,
    "ExecuteTime": {
     "end_time": "2024-05-16T09:04:42.882200Z",
     "start_time": "2024-05-16T09:04:41.696168Z"
    }
   },
   "id": "35d5ac4b80cfbd35",
   "execution_count": 1
  },
  {
   "cell_type": "code",
   "outputs": [
    {
     "name": "stdout",
     "output_type": "stream",
     "text": [
      "Đã cập nhật thành công\n"
     ]
    }
   ],
   "source": [
    "# Lấy danh sách tất cả các tài liệu trong collection\n",
    "documents = collection.find({})\n",
    "image_link = image[0::2]\n",
    "for index, document in enumerate(documents):\n",
    "    document_id = document['_id']\n",
    "    price1 = image_link[index]\n",
    "    update = { '$set': { 'Image': price1 } }\n",
    "    collection.update_one({ '_id': document_id }, update)\n",
    "\n",
    "print(\"Đã cập nhật thành công\")"
   ],
   "metadata": {
    "collapsed": false,
    "ExecuteTime": {
     "end_time": "2024-05-16T09:33:44.430560Z",
     "start_time": "2024-05-16T09:33:44.145048Z"
    }
   },
   "id": "4d27efe7ccae4e4f",
   "execution_count": 46
  },
  {
   "cell_type": "code",
   "outputs": [
    {
     "name": "stdout",
     "output_type": "stream",
     "text": [
      "156000\n"
     ]
    }
   ],
   "source": [
    "image_list = df1['price'].astype(int).values\n",
    "print(image_list[0])"
   ],
   "metadata": {
    "collapsed": false,
    "ExecuteTime": {
     "end_time": "2024-05-16T09:14:11.160384Z",
     "start_time": "2024-05-16T09:14:11.137229Z"
    }
   },
   "id": "c7e4fe2c2459dfe9",
   "execution_count": 18
  }
 ],
 "metadata": {
  "kernelspec": {
   "display_name": "Python 3",
   "language": "python",
   "name": "python3"
  },
  "language_info": {
   "codemirror_mode": {
    "name": "ipython",
    "version": 2
   },
   "file_extension": ".py",
   "mimetype": "text/x-python",
   "name": "python",
   "nbconvert_exporter": "python",
   "pygments_lexer": "ipython2",
   "version": "2.7.6"
  }
 },
 "nbformat": 4,
 "nbformat_minor": 5
}
=======
{
 "cells": [
  {
   "cell_type": "code",
   "execution_count": 1,
   "id": "initial_id",
   "metadata": {
    "collapsed": true,
    "ExecuteTime": {
     "end_time": "2024-05-16T12:07:08.535391Z",
     "start_time": "2024-05-16T12:07:08.201949Z"
    }
   },
   "outputs": [],
   "source": [
    "import numpy as np\n",
    "import pandas as pd\n",
    "from time import sleep\n",
    "import random\n",
    "from selenium import webdriver\n",
    "from selenium.webdriver.common.by import By\n",
    "from selenium.webdriver.chrome.service import Service\n",
    "from selenium.common.exceptions import NoSuchElementException, ElementNotInteractableException"
   ]
  },
  {
   "cell_type": "code",
   "outputs": [
    {
     "name": "stderr",
     "output_type": "stream",
     "text": [
      "<>:1: SyntaxWarning: invalid escape sequence '\\P'\n",
      "<>:1: SyntaxWarning: invalid escape sequence '\\P'\n",
      "C:\\Users\\VNC\\AppData\\Local\\Temp\\ipykernel_22524\\1880160706.py:1: SyntaxWarning: invalid escape sequence '\\P'\n",
      "  service = Service(executable_path='D:\\PyCharmProfessional\\Projects\\DataMining\\Custome_Behavior_PJ\\chromedriver-win64\\chromedriver.exe')\n"
     ]
    }
   ],
   "source": [
    "service = Service(executable_path='D:\\PyCharmProfessional\\Projects\\DataMining\\Custome_Behavior_PJ\\chromedriver-win64\\chromedriver.exe')\n",
    "driver = webdriver.Chrome(service=service)"
   ],
   "metadata": {
    "collapsed": false,
    "ExecuteTime": {
     "end_time": "2024-05-16T12:22:40.858675Z",
     "start_time": "2024-05-16T12:22:37.195247Z"
    }
   },
   "id": "e5a5bf55d8983ef7",
   "execution_count": 16
  },
  {
   "cell_type": "code",
   "outputs": [],
   "source": [
    "driver.get('https://eshop.acecookvietnam.vn/collections/all')\n",
    "sleep(random.randint(5,10))"
   ],
   "metadata": {
    "collapsed": false,
    "ExecuteTime": {
     "end_time": "2024-05-16T12:23:00.870762Z",
     "start_time": "2024-05-16T12:22:43.172811Z"
    }
   },
   "id": "410f5397cac2fe9c",
   "execution_count": 17
  },
  {
   "cell_type": "code",
   "outputs": [],
   "source": [
    "next_product = driver.find_element('xpath', '//*[@id=\"collection-body\"]/div/div/div[2]/div[2]/div[2]/a')\n",
    "next_product.click()"
   ],
   "metadata": {
    "collapsed": false,
    "ExecuteTime": {
     "end_time": "2024-05-15T06:28:09.616466Z",
     "start_time": "2024-05-15T06:28:08.308476Z"
    }
   },
   "id": "5dcdccf9bf821374",
   "execution_count": 4
  },
  {
   "cell_type": "code",
   "outputs": [
    {
     "name": "stdout",
     "output_type": "stream",
     "text": [
      "Crawl Page1\n",
      "Crawl Page2\n",
      "Crawl Page3\n",
      "Crawl Page4\n",
      "Crawl Page5\n",
      "Crawl Page6\n",
      "Crawl Page7\n",
      "Crawl Page8\n",
      "Crawl Page9\n",
      "Element Not Interactable Exception\n"
     ]
    }
   ],
   "source": [
    "count = 1\n",
    "links, title, price, image = [], [], [], []\n",
    "\n",
    "while True:\n",
    "    try:\n",
    "        print(\"Crawl Page\" + str(count))\n",
    "        next_product = driver.find_element('xpath', '/html/body/div[1]/main/div/div[2]/div/div/div/div[2]/div[2]/div[2]/a')\n",
    "        next_product.click()\n",
    "        sleep(random.randint(5,10))\n",
    "        count += 1\n",
    "    except ElementNotInteractableException:\n",
    "        print(\"Element Not Interactable Exception\")\n",
    "        break\n",
    "elems = driver.find_elements(By.CSS_SELECTOR, \".proloop-image [href]\")\n",
    "links = [elem.get_attribute('href') for elem in elems]\n",
    "title = [elem.get_attribute('title') for elem in elems]\n",
    "elems_price = driver.find_elements(By.CSS_SELECTOR, \".price\") \n",
    "price = [elem.text for elem in elems_price]\n",
    "# elems_img = driver.find_elements(By.CSS_SELECTOR, \".lazy-img.first-image\")\n",
    "elems_img2 = driver.find_elements(By.CSS_SELECTOR, \".product--image .lazy-img picture img\")\n",
    "image = [elem.get_attribute('src') for elem in elems_img2]"
   ],
   "metadata": {
    "collapsed": false,
    "ExecuteTime": {
     "end_time": "2024-05-16T12:24:40.354353Z",
     "start_time": "2024-05-16T12:23:20.101829Z"
    }
   },
   "id": "924392c6291dcca9",
   "execution_count": 18
  },
  {
   "cell_type": "code",
   "outputs": [
    {
     "data": {
      "text/plain": "82"
     },
     "execution_count": 19,
     "metadata": {},
     "output_type": "execute_result"
    }
   ],
   "source": [
    "image1 = image[0:40]\n",
    "image1_1 = image1[0::2]\n",
    "image2 = image[40:44]\n",
    "image3 = image[45:160]\n",
    "image3_3 = image3[0::2]\n",
    "add_image = image1_1 + image2 + image3_3\n",
    "len(add_image)"
   ],
   "metadata": {
    "collapsed": false,
    "ExecuteTime": {
     "end_time": "2024-05-16T12:24:42.236784Z",
     "start_time": "2024-05-16T12:24:42.213701Z"
    }
   },
   "id": "b56e216cb070f0c2",
   "execution_count": 19
  },
  {
   "cell_type": "code",
   "outputs": [
    {
     "data": {
      "text/plain": "'https://product.hstatic.net/200000610047/product/3d_khung__40__e062981a21e2429d904fa83c1c97f930_small.png'"
     },
     "execution_count": 157,
     "metadata": {},
     "output_type": "execute_result"
    }
   ],
   "source": [
    "image[44]\n",
    "# 40 41 42"
   ],
   "metadata": {
    "collapsed": false,
    "ExecuteTime": {
     "end_time": "2024-05-16T11:49:25.557907Z",
     "start_time": "2024-05-16T11:49:25.548166Z"
    }
   },
   "id": "253a8c66bd87a1f8",
   "execution_count": 157
  },
  {
   "cell_type": "code",
   "outputs": [
    {
     "name": "stdout",
     "output_type": "stream",
     "text": [
      "['156000' '228000' '228000' '135000' '135000' '312000' '234000' '234000'\n",
      " '204000' '192000' '135000' '102000' '40000' '40000' '36000' '36000'\n",
      " '44000' '52000' '40000' '22000' '63000' '74000' '59000' '57500' '288000'\n",
      " '288000' '135000' '312000' '135000' '135000' '240000' '270000' '180000'\n",
      " '270000' '270000' '270000' '270000' '240000' '144000' '144000' '228000'\n",
      " '228000' '240000' '360000' '360000' '312000' '240000' '180000' '180000'\n",
      " '180000' '240000' '240000' '192000' '192000' '192000' '135000' '480000'\n",
      " '480000' '60000' '60000' '312000' '312000' '270000' '270000' '192000'\n",
      " '192000' '132000' '132000' '264000' '264000' '264000' '264000' '264000'\n",
      " '336000' '336000' '69000' '83000' '58000' '220000' '57000' '300000'\n",
      " '408000']\n"
     ]
    }
   ],
   "source": [
    "# Hàm chuyển đổi giá trị từ chuỗi sang số nguyên\n",
    "def convert_price(price_str):\n",
    "    cleaned_price_str = np.char.replace(price_str, '₫', '')\n",
    "    cleaned_price_str = np.char.replace(cleaned_price_str, ',', '')\n",
    "    return cleaned_price_str\n",
    "\n",
    "# Áp dụng hàm chuyển đổi cho mảng giá\n",
    "prices_cleaned_str = convert_price(price)\n",
    "\n",
    "print(prices_cleaned_str)"
   ],
   "metadata": {
    "collapsed": false,
    "ExecuteTime": {
     "end_time": "2024-05-16T12:24:53.965145Z",
     "start_time": "2024-05-16T12:24:53.934954Z"
    }
   },
   "id": "45ff17cc35c3f23a",
   "execution_count": 20
  },
  {
   "cell_type": "code",
   "outputs": [
    {
     "data": {
      "text/plain": "['156,000₫',\n '228,000₫',\n '228,000₫',\n '135,000₫',\n '135,000₫',\n '312,000₫',\n '234,000₫',\n '234,000₫',\n '204,000₫',\n '192,000₫',\n '135,000₫',\n '102,000₫',\n '40,000₫',\n '40,000₫',\n '36,000₫',\n '36,000₫',\n '44,000₫',\n '52,000₫',\n '40,000₫',\n '22,000₫',\n '63,000₫',\n '74,000₫',\n '59,000₫',\n '57,500₫',\n '288,000₫',\n '288,000₫',\n '135,000₫',\n '312,000₫',\n '135,000₫',\n '135,000₫',\n '240,000₫',\n '270,000₫',\n '180,000₫',\n '270,000₫',\n '270,000₫',\n '270,000₫',\n '270,000₫',\n '240,000₫',\n '144,000₫',\n '144,000₫',\n '228,000₫',\n '228,000₫',\n '240,000₫',\n '360,000₫',\n '360,000₫',\n '312,000₫',\n '240,000₫',\n '180,000₫',\n '180,000₫',\n '180,000₫',\n '240,000₫',\n '240,000₫',\n '192,000₫',\n '192,000₫',\n '192,000₫',\n '135,000₫',\n '480,000₫',\n '480,000₫',\n '60,000₫',\n '60,000₫',\n '312,000₫',\n '312,000₫',\n '270,000₫',\n '270,000₫',\n '192,000₫',\n '192,000₫',\n '132,000₫',\n '132,000₫',\n '264,000₫',\n '264,000₫',\n '264,000₫',\n '264,000₫',\n '264,000₫',\n '336,000₫',\n '336,000₫',\n '69,000₫',\n '83,000₫',\n '58,000₫',\n '220,000₫',\n '57,000₫',\n '300,000₫',\n '408,000₫']"
     },
     "execution_count": 25,
     "metadata": {},
     "output_type": "execute_result"
    }
   ],
   "source": [
    "price"
   ],
   "metadata": {
    "collapsed": false,
    "ExecuteTime": {
     "end_time": "2024-05-16T09:20:19.985106Z",
     "start_time": "2024-05-16T09:20:19.966326Z"
    }
   },
   "id": "cb9962d43bb87873",
   "execution_count": 25
  },
  {
   "cell_type": "code",
   "outputs": [],
   "source": [
    "df1 = pd.DataFrame(list(zip(links[1::2], title[1::2], price, add_image)), columns=['link', 'title', 'price', 'image'])\n",
    "def convert_price(price_str):\n",
    "    cleaned_price_str = price_str.replace('₫', '').replace(',', '')\n",
    "    return int(cleaned_price_str)\n",
    "\n",
    "# Áp dụng hàm chuyển đổi cho cột 'price'\n",
    "df1['price'] = df1['price'].apply(convert_price)"
   ],
   "metadata": {
    "collapsed": false,
    "ExecuteTime": {
     "end_time": "2024-05-16T12:25:03.042463Z",
     "start_time": "2024-05-16T12:25:02.969535Z"
    }
   },
   "id": "77483d5d521bafce",
   "execution_count": 21
  },
  {
   "cell_type": "code",
   "outputs": [
    {
     "data": {
      "text/plain": "                                                 link  \\\n0   https://eshop.acecookvietnam.vn/products/thung...   \n1   https://eshop.acecookvietnam.vn/products/thung...   \n2   https://eshop.acecookvietnam.vn/products/thung...   \n3   https://eshop.acecookvietnam.vn/products/thung...   \n4   https://eshop.acecookvietnam.vn/products/thung...   \n..                                                ...   \n77  https://eshop.acecookvietnam.vn/products/combo...   \n78  https://eshop.acecookvietnam.vn/products/bun-h...   \n79  https://eshop.acecookvietnam.vn/products/hao-h...   \n80  https://eshop.acecookvietnam.vn/products/de-nh...   \n81  https://eshop.acecookvietnam.vn/products/muoi-...   \n\n                                               title   price  \\\n0   Thùng 12 Tô Mì Nhớ Mãi Mãi Hương Vị Lẩu Thái 84g  156000   \n1      Thùng 24 ly Handy Hảo Hảo Hương Vị Tomyum 67g  228000   \n2         Thùng 24 ly Handy Hảo Hảo Tôm Chua Cay 67g  228000   \n3   Thùng 30 gói Hảo Hảo Hương Vị Sa Tế Hành Tím 75g  135000   \n4     Thùng 30 gói Hảo Hảo Chay Hương Vị Rau Nấm 74g  135000   \n..                                               ...     ...   \n77                                      Combo Trẻ Em   58000   \n78     Thùng 10 Block Bún Tươi Sấy Khô Hằng Nga 200g  220000   \n79                                    Combo Hảo Hảo    57000   \n80  Thùng 30 gói Đệ Nhất Phở Đặc Biệt Bò Tái Lăn 68g  300000   \n81               Thùng 24 hộp Muối Chấm Hảo Hảo 120g  408000   \n\n                                                image  \n0   https://product.hstatic.net/200000610047/produ...  \n1   https://product.hstatic.net/200000610047/produ...  \n2   https://product.hstatic.net/200000610047/produ...  \n3   https://product.hstatic.net/200000610047/produ...  \n4   https://product.hstatic.net/200000610047/produ...  \n..                                                ...  \n77  https://product.hstatic.net/200000610047/produ...  \n78  https://product.hstatic.net/200000610047/produ...  \n79  https://product.hstatic.net/200000610047/produ...  \n80  https://product.hstatic.net/200000610047/produ...  \n81  https://product.hstatic.net/200000610047/produ...  \n\n[82 rows x 4 columns]",
      "text/html": "<div>\n<style scoped>\n    .dataframe tbody tr th:only-of-type {\n        vertical-align: middle;\n    }\n\n    .dataframe tbody tr th {\n        vertical-align: top;\n    }\n\n    .dataframe thead th {\n        text-align: right;\n    }\n</style>\n<table border=\"1\" class=\"dataframe\">\n  <thead>\n    <tr style=\"text-align: right;\">\n      <th></th>\n      <th>link</th>\n      <th>title</th>\n      <th>price</th>\n      <th>image</th>\n    </tr>\n  </thead>\n  <tbody>\n    <tr>\n      <th>0</th>\n      <td>https://eshop.acecookvietnam.vn/products/thung...</td>\n      <td>Thùng 12 Tô Mì Nhớ Mãi Mãi Hương Vị Lẩu Thái 84g</td>\n      <td>156000</td>\n      <td>https://product.hstatic.net/200000610047/produ...</td>\n    </tr>\n    <tr>\n      <th>1</th>\n      <td>https://eshop.acecookvietnam.vn/products/thung...</td>\n      <td>Thùng 24 ly Handy Hảo Hảo Hương Vị Tomyum 67g</td>\n      <td>228000</td>\n      <td>https://product.hstatic.net/200000610047/produ...</td>\n    </tr>\n    <tr>\n      <th>2</th>\n      <td>https://eshop.acecookvietnam.vn/products/thung...</td>\n      <td>Thùng 24 ly Handy Hảo Hảo Tôm Chua Cay 67g</td>\n      <td>228000</td>\n      <td>https://product.hstatic.net/200000610047/produ...</td>\n    </tr>\n    <tr>\n      <th>3</th>\n      <td>https://eshop.acecookvietnam.vn/products/thung...</td>\n      <td>Thùng 30 gói Hảo Hảo Hương Vị Sa Tế Hành Tím 75g</td>\n      <td>135000</td>\n      <td>https://product.hstatic.net/200000610047/produ...</td>\n    </tr>\n    <tr>\n      <th>4</th>\n      <td>https://eshop.acecookvietnam.vn/products/thung...</td>\n      <td>Thùng 30 gói Hảo Hảo Chay Hương Vị Rau Nấm 74g</td>\n      <td>135000</td>\n      <td>https://product.hstatic.net/200000610047/produ...</td>\n    </tr>\n    <tr>\n      <th>...</th>\n      <td>...</td>\n      <td>...</td>\n      <td>...</td>\n      <td>...</td>\n    </tr>\n    <tr>\n      <th>77</th>\n      <td>https://eshop.acecookvietnam.vn/products/combo...</td>\n      <td>Combo Trẻ Em</td>\n      <td>58000</td>\n      <td>https://product.hstatic.net/200000610047/produ...</td>\n    </tr>\n    <tr>\n      <th>78</th>\n      <td>https://eshop.acecookvietnam.vn/products/bun-h...</td>\n      <td>Thùng 10 Block Bún Tươi Sấy Khô Hằng Nga 200g</td>\n      <td>220000</td>\n      <td>https://product.hstatic.net/200000610047/produ...</td>\n    </tr>\n    <tr>\n      <th>79</th>\n      <td>https://eshop.acecookvietnam.vn/products/hao-h...</td>\n      <td>Combo Hảo Hảo</td>\n      <td>57000</td>\n      <td>https://product.hstatic.net/200000610047/produ...</td>\n    </tr>\n    <tr>\n      <th>80</th>\n      <td>https://eshop.acecookvietnam.vn/products/de-nh...</td>\n      <td>Thùng 30 gói Đệ Nhất Phở Đặc Biệt Bò Tái Lăn 68g</td>\n      <td>300000</td>\n      <td>https://product.hstatic.net/200000610047/produ...</td>\n    </tr>\n    <tr>\n      <th>81</th>\n      <td>https://eshop.acecookvietnam.vn/products/muoi-...</td>\n      <td>Thùng 24 hộp Muối Chấm Hảo Hảo 120g</td>\n      <td>408000</td>\n      <td>https://product.hstatic.net/200000610047/produ...</td>\n    </tr>\n  </tbody>\n</table>\n<p>82 rows × 4 columns</p>\n</div>"
     },
     "execution_count": 22,
     "metadata": {},
     "output_type": "execute_result"
    }
   ],
   "source": [
    "df1"
   ],
   "metadata": {
    "collapsed": false,
    "ExecuteTime": {
     "end_time": "2024-05-16T12:25:05.062332Z",
     "start_time": "2024-05-16T12:25:05.030176Z"
    }
   },
   "id": "bc0e032c8cb69dcf",
   "execution_count": 22
  },
  {
   "cell_type": "code",
   "outputs": [
    {
     "data": {
      "text/plain": "102"
     },
     "execution_count": 98,
     "metadata": {},
     "output_type": "execute_result"
    }
   ],
   "source": [
    "arr = []\n",
    "for i in image:\n",
    "    if i.endswith('png'):\n",
    "        arr.append(i)\n",
    "len(arr)"
   ],
   "metadata": {
    "collapsed": false,
    "ExecuteTime": {
     "end_time": "2024-05-16T10:47:57.142290Z",
     "start_time": "2024-05-16T10:47:57.100378Z"
    }
   },
   "id": "1f4554d07420b815",
   "execution_count": 98
  },
  {
   "cell_type": "code",
   "outputs": [
    {
     "data": {
      "text/plain": "                                                 link  \\\n0   https://eshop.acecookvietnam.vn/products/thung...   \n1   https://eshop.acecookvietnam.vn/products/thung...   \n2   https://eshop.acecookvietnam.vn/products/thung...   \n3   https://eshop.acecookvietnam.vn/products/thung...   \n4   https://eshop.acecookvietnam.vn/products/thung...   \n..                                                ...   \n77  https://eshop.acecookvietnam.vn/products/combo...   \n78  https://eshop.acecookvietnam.vn/products/bun-h...   \n79  https://eshop.acecookvietnam.vn/products/hao-h...   \n80  https://eshop.acecookvietnam.vn/products/de-nh...   \n81  https://eshop.acecookvietnam.vn/products/muoi-...   \n\n                                               title   price  \n0   Thùng 12 Tô Mì Nhớ Mãi Mãi Hương Vị Lẩu Thái 84g  156000  \n1      Thùng 24 ly Handy Hảo Hảo Hương Vị Tomyum 67g  228000  \n2         Thùng 24 ly Handy Hảo Hảo Tôm Chua Cay 67g  228000  \n3   Thùng 30 gói Hảo Hảo Hương Vị Sa Tế Hành Tím 75g  135000  \n4     Thùng 30 gói Hảo Hảo Chay Hương Vị Rau Nấm 74g  135000  \n..                                               ...     ...  \n77                                      Combo Trẻ Em   58000  \n78     Thùng 10 Block Bún Tươi Sấy Khô Hằng Nga 200g  220000  \n79                                    Combo Hảo Hảo    57000  \n80  Thùng 30 gói Đệ Nhất Phở Đặc Biệt Bò Tái Lăn 68g  300000  \n81               Thùng 24 hộp Muối Chấm Hảo Hảo 120g  408000  \n\n[82 rows x 3 columns]",
      "text/html": "<div>\n<style scoped>\n    .dataframe tbody tr th:only-of-type {\n        vertical-align: middle;\n    }\n\n    .dataframe tbody tr th {\n        vertical-align: top;\n    }\n\n    .dataframe thead th {\n        text-align: right;\n    }\n</style>\n<table border=\"1\" class=\"dataframe\">\n  <thead>\n    <tr style=\"text-align: right;\">\n      <th></th>\n      <th>link</th>\n      <th>title</th>\n      <th>price</th>\n    </tr>\n  </thead>\n  <tbody>\n    <tr>\n      <th>0</th>\n      <td>https://eshop.acecookvietnam.vn/products/thung...</td>\n      <td>Thùng 12 Tô Mì Nhớ Mãi Mãi Hương Vị Lẩu Thái 84g</td>\n      <td>156000</td>\n    </tr>\n    <tr>\n      <th>1</th>\n      <td>https://eshop.acecookvietnam.vn/products/thung...</td>\n      <td>Thùng 24 ly Handy Hảo Hảo Hương Vị Tomyum 67g</td>\n      <td>228000</td>\n    </tr>\n    <tr>\n      <th>2</th>\n      <td>https://eshop.acecookvietnam.vn/products/thung...</td>\n      <td>Thùng 24 ly Handy Hảo Hảo Tôm Chua Cay 67g</td>\n      <td>228000</td>\n    </tr>\n    <tr>\n      <th>3</th>\n      <td>https://eshop.acecookvietnam.vn/products/thung...</td>\n      <td>Thùng 30 gói Hảo Hảo Hương Vị Sa Tế Hành Tím 75g</td>\n      <td>135000</td>\n    </tr>\n    <tr>\n      <th>4</th>\n      <td>https://eshop.acecookvietnam.vn/products/thung...</td>\n      <td>Thùng 30 gói Hảo Hảo Chay Hương Vị Rau Nấm 74g</td>\n      <td>135000</td>\n    </tr>\n    <tr>\n      <th>...</th>\n      <td>...</td>\n      <td>...</td>\n      <td>...</td>\n    </tr>\n    <tr>\n      <th>77</th>\n      <td>https://eshop.acecookvietnam.vn/products/combo...</td>\n      <td>Combo Trẻ Em</td>\n      <td>58000</td>\n    </tr>\n    <tr>\n      <th>78</th>\n      <td>https://eshop.acecookvietnam.vn/products/bun-h...</td>\n      <td>Thùng 10 Block Bún Tươi Sấy Khô Hằng Nga 200g</td>\n      <td>220000</td>\n    </tr>\n    <tr>\n      <th>79</th>\n      <td>https://eshop.acecookvietnam.vn/products/hao-h...</td>\n      <td>Combo Hảo Hảo</td>\n      <td>57000</td>\n    </tr>\n    <tr>\n      <th>80</th>\n      <td>https://eshop.acecookvietnam.vn/products/de-nh...</td>\n      <td>Thùng 30 gói Đệ Nhất Phở Đặc Biệt Bò Tái Lăn 68g</td>\n      <td>300000</td>\n    </tr>\n    <tr>\n      <th>81</th>\n      <td>https://eshop.acecookvietnam.vn/products/muoi-...</td>\n      <td>Thùng 24 hộp Muối Chấm Hảo Hảo 120g</td>\n      <td>408000</td>\n    </tr>\n  </tbody>\n</table>\n<p>82 rows × 3 columns</p>\n</div>"
     },
     "execution_count": 80,
     "metadata": {},
     "output_type": "execute_result"
    }
   ],
   "source": [
    "df1"
   ],
   "metadata": {
    "collapsed": false,
    "ExecuteTime": {
     "end_time": "2024-05-16T10:21:54.588603Z",
     "start_time": "2024-05-16T10:21:54.562018Z"
    }
   },
   "id": "f11968fc987095ab",
   "execution_count": 80
  },
  {
   "cell_type": "code",
   "outputs": [],
   "source": [
    "links = links[1::2]"
   ],
   "metadata": {
    "collapsed": false,
    "ExecuteTime": {
     "end_time": "2024-05-16T12:25:26.468341Z",
     "start_time": "2024-05-16T12:25:26.463846Z"
    }
   },
   "id": "f52d90bac3fe857a",
   "execution_count": 23
  },
  {
   "cell_type": "code",
   "outputs": [
    {
     "data": {
      "text/plain": "82"
     },
     "execution_count": 12,
     "metadata": {},
     "output_type": "execute_result"
    }
   ],
   "source": [
    "len(links)"
   ],
   "metadata": {
    "collapsed": false,
    "ExecuteTime": {
     "end_time": "2024-05-16T12:16:57.903586Z",
     "start_time": "2024-05-16T12:16:57.892095Z"
    }
   },
   "id": "a8c481c08f94052f",
   "execution_count": 12
  },
  {
   "cell_type": "code",
   "outputs": [],
   "source": [
    "product_id = []"
   ],
   "metadata": {
    "collapsed": false,
    "ExecuteTime": {
     "end_time": "2024-05-16T12:25:28.991352Z",
     "start_time": "2024-05-16T12:25:28.986987Z"
    }
   },
   "id": "4383e42ef74ab37",
   "execution_count": 24
  },
  {
   "cell_type": "code",
   "outputs": [],
   "source": [
    "for link in links:\n",
    "    driver.get(link)\n",
    "    sleep(random.randint(5,10))\n",
    "    elems_id = driver.find_element(By.CSS_SELECTOR, \".product-heading strong\")\n",
    "    product_id.append(elems_id.text)"
   ],
   "metadata": {
    "collapsed": false,
    "ExecuteTime": {
     "end_time": "2024-05-16T12:38:49.145396Z",
     "start_time": "2024-05-16T12:25:30.278452Z"
    }
   },
   "id": "74e8b083a96596f3",
   "execution_count": 25
  },
  {
   "cell_type": "code",
   "outputs": [
    {
     "data": {
      "text/plain": "164"
     },
     "execution_count": 167,
     "metadata": {},
     "output_type": "execute_result"
    }
   ],
   "source": [
    "len(links)"
   ],
   "metadata": {
    "collapsed": false,
    "ExecuteTime": {
     "end_time": "2024-05-16T11:58:31.203885Z",
     "start_time": "2024-05-16T11:58:31.177322Z"
    }
   },
   "id": "308aebf288e0b01f",
   "execution_count": 167
  },
  {
   "cell_type": "code",
   "outputs": [
    {
     "data": {
      "text/plain": "370"
     },
     "execution_count": 11,
     "metadata": {},
     "output_type": "execute_result"
    }
   ],
   "source": [
    "len(product_id)"
   ],
   "metadata": {
    "collapsed": false,
    "ExecuteTime": {
     "end_time": "2024-05-15T06:49:12.951574Z",
     "start_time": "2024-05-15T06:49:12.931157Z"
    }
   },
   "id": "db79b0306ab0a2aa",
   "execution_count": 11
  },
  {
   "cell_type": "code",
   "outputs": [],
   "source": [],
   "metadata": {
    "collapsed": false
   },
   "id": "f0c753f7e538fd27"
  },
  {
   "cell_type": "code",
   "outputs": [
    {
     "data": {
      "text/plain": "                                         ProductName  ProductID   Price  \\\n0   Thùng 12 Tô Mì Nhớ Mãi Mãi Hương Vị Lẩu Thái 84g  500000811  156000   \n1      Thùng 24 ly Handy Hảo Hảo Hương Vị Tomyum 67g  500000781  228000   \n2         Thùng 24 ly Handy Hảo Hảo Tôm Chua Cay 67g  500000780  228000   \n3   Thùng 30 gói Hảo Hảo Hương Vị Sa Tế Hành Tím 75g  500001044  135000   \n4     Thùng 30 gói Hảo Hảo Chay Hương Vị Rau Nấm 74g  500000091  135000   \n..                                               ...        ...     ...   \n77                                      Combo Trẻ Em    CBTREEM   58000   \n78     Thùng 10 Block Bún Tươi Sấy Khô Hằng Nga 200g  500000048  220000   \n79                                    Combo Hảo Hảo    CBHAOHAO   57000   \n80  Thùng 30 gói Đệ Nhất Phở Đặc Biệt Bò Tái Lăn 68g  500000074  300000   \n81               Thùng 24 hộp Muối Chấm Hảo Hảo 120g  500000854  408000   \n\n                                                Image  \n0   https://product.hstatic.net/200000610047/produ...  \n1   https://product.hstatic.net/200000610047/produ...  \n2   https://product.hstatic.net/200000610047/produ...  \n3   https://product.hstatic.net/200000610047/produ...  \n4   https://product.hstatic.net/200000610047/produ...  \n..                                                ...  \n77  https://product.hstatic.net/200000610047/produ...  \n78  https://product.hstatic.net/200000610047/produ...  \n79  https://product.hstatic.net/200000610047/produ...  \n80  https://product.hstatic.net/200000610047/produ...  \n81  https://product.hstatic.net/200000610047/produ...  \n\n[82 rows x 4 columns]",
      "text/html": "<div>\n<style scoped>\n    .dataframe tbody tr th:only-of-type {\n        vertical-align: middle;\n    }\n\n    .dataframe tbody tr th {\n        vertical-align: top;\n    }\n\n    .dataframe thead th {\n        text-align: right;\n    }\n</style>\n<table border=\"1\" class=\"dataframe\">\n  <thead>\n    <tr style=\"text-align: right;\">\n      <th></th>\n      <th>ProductName</th>\n      <th>ProductID</th>\n      <th>Price</th>\n      <th>Image</th>\n    </tr>\n  </thead>\n  <tbody>\n    <tr>\n      <th>0</th>\n      <td>Thùng 12 Tô Mì Nhớ Mãi Mãi Hương Vị Lẩu Thái 84g</td>\n      <td>500000811</td>\n      <td>156000</td>\n      <td>https://product.hstatic.net/200000610047/produ...</td>\n    </tr>\n    <tr>\n      <th>1</th>\n      <td>Thùng 24 ly Handy Hảo Hảo Hương Vị Tomyum 67g</td>\n      <td>500000781</td>\n      <td>228000</td>\n      <td>https://product.hstatic.net/200000610047/produ...</td>\n    </tr>\n    <tr>\n      <th>2</th>\n      <td>Thùng 24 ly Handy Hảo Hảo Tôm Chua Cay 67g</td>\n      <td>500000780</td>\n      <td>228000</td>\n      <td>https://product.hstatic.net/200000610047/produ...</td>\n    </tr>\n    <tr>\n      <th>3</th>\n      <td>Thùng 30 gói Hảo Hảo Hương Vị Sa Tế Hành Tím 75g</td>\n      <td>500001044</td>\n      <td>135000</td>\n      <td>https://product.hstatic.net/200000610047/produ...</td>\n    </tr>\n    <tr>\n      <th>4</th>\n      <td>Thùng 30 gói Hảo Hảo Chay Hương Vị Rau Nấm 74g</td>\n      <td>500000091</td>\n      <td>135000</td>\n      <td>https://product.hstatic.net/200000610047/produ...</td>\n    </tr>\n    <tr>\n      <th>...</th>\n      <td>...</td>\n      <td>...</td>\n      <td>...</td>\n      <td>...</td>\n    </tr>\n    <tr>\n      <th>77</th>\n      <td>Combo Trẻ Em</td>\n      <td>CBTREEM</td>\n      <td>58000</td>\n      <td>https://product.hstatic.net/200000610047/produ...</td>\n    </tr>\n    <tr>\n      <th>78</th>\n      <td>Thùng 10 Block Bún Tươi Sấy Khô Hằng Nga 200g</td>\n      <td>500000048</td>\n      <td>220000</td>\n      <td>https://product.hstatic.net/200000610047/produ...</td>\n    </tr>\n    <tr>\n      <th>79</th>\n      <td>Combo Hảo Hảo</td>\n      <td>CBHAOHAO</td>\n      <td>57000</td>\n      <td>https://product.hstatic.net/200000610047/produ...</td>\n    </tr>\n    <tr>\n      <th>80</th>\n      <td>Thùng 30 gói Đệ Nhất Phở Đặc Biệt Bò Tái Lăn 68g</td>\n      <td>500000074</td>\n      <td>300000</td>\n      <td>https://product.hstatic.net/200000610047/produ...</td>\n    </tr>\n    <tr>\n      <th>81</th>\n      <td>Thùng 24 hộp Muối Chấm Hảo Hảo 120g</td>\n      <td>500000854</td>\n      <td>408000</td>\n      <td>https://product.hstatic.net/200000610047/produ...</td>\n    </tr>\n  </tbody>\n</table>\n<p>82 rows × 4 columns</p>\n</div>"
     },
     "execution_count": 35,
     "metadata": {},
     "output_type": "execute_result"
    }
   ],
   "source": [
    "df2 = pd.DataFrame(list(zip(title[1::2], product_id, price, add_image)), columns=['ProductName', 'ProductID', 'Price', 'Image'])\n",
    "df2['Price'] = df2['Price'].apply(convert_price)\n",
    "df2"
   ],
   "metadata": {
    "collapsed": false,
    "ExecuteTime": {
     "end_time": "2024-05-16T12:48:59.787874Z",
     "start_time": "2024-05-16T12:48:59.768243Z"
    }
   },
   "id": "f3fbedfe26932f76",
   "execution_count": 35
  },
  {
   "cell_type": "code",
   "outputs": [],
   "source": [
    "# Kết nối tới MongoDB\n",
    "from pymongo import MongoClient\n",
    "client = MongoClient('mongodb://localhost:27017/')\n",
    "mydb = client['customer_data']\n",
    "collect = mydb['product2']\n",
    "def postDataToMGBD(data, collection):\n",
    "    data_records = data.to_dict(orient='records')\n",
    "\n",
    "    # Chèn dữ liệu vào MongoDB\n",
    "    collection.insert_many(data_records)\n",
    "\n",
    "postDataToMGBD(df2, collect)"
   ],
   "metadata": {
    "collapsed": false,
    "ExecuteTime": {
     "end_time": "2024-05-16T12:49:26.342735Z",
     "start_time": "2024-05-16T12:49:26.252571Z"
    }
   },
   "id": "5723d46448fac30c",
   "execution_count": 36
  },
  {
   "cell_type": "code",
   "outputs": [
    {
     "data": {
      "text/plain": "'https://product.hstatic.net/200000610047/product/nho_mai_mai_lau_thai_tom_thung_va_goi_c06a7a6f55ab4d0dba035a509573d081_compact.jpg'"
     },
     "execution_count": 20,
     "metadata": {},
     "output_type": "execute_result"
    }
   ],
   "source": [
    "driver.get(links[0])\n",
    "elems_id = driver.find_element(By.CSS_SELECTOR, \".product-thumb__item img\")\n",
    "product_id = elems_id.get_attribute('src')\n",
    "product_id"
   ],
   "metadata": {
    "collapsed": false,
    "ExecuteTime": {
     "end_time": "2024-05-15T07:15:30.282183Z",
     "start_time": "2024-05-15T07:15:07.947591Z"
    }
   },
   "id": "e107de52b1b6679b",
   "execution_count": 20
  },
  {
   "cell_type": "code",
   "outputs": [
    {
     "data": {
      "text/plain": "UpdateResult({'n': 370, 'nModified': 370, 'ok': 1.0, 'updatedExisting': True}, acknowledged=True)"
     },
     "execution_count": 1,
     "metadata": {},
     "output_type": "execute_result"
    }
   ],
   "source": [
    "from pymongo import MongoClient\n",
    "client = MongoClient('mongodb://localhost:27017/')\n",
    "mydb = client['customer_data']\n",
    "collection = mydb['product2']"
   ],
   "metadata": {
    "collapsed": false,
    "ExecuteTime": {
     "end_time": "2024-05-16T09:04:42.882200Z",
     "start_time": "2024-05-16T09:04:41.696168Z"
    }
   },
   "id": "35d5ac4b80cfbd35",
   "execution_count": 1
  },
  {
   "cell_type": "code",
   "outputs": [
    {
     "name": "stdout",
     "output_type": "stream",
     "text": [
      "Đã cập nhật thành công\n"
     ]
    }
   ],
   "source": [
    "# Lấy danh sách tất cả các tài liệu trong collection\n",
    "documents = collection.find({})\n",
    "image_link = image[0::2]\n",
    "for index, document in enumerate(documents):\n",
    "    document_id = document['_id']\n",
    "    price1 = image_link[index]\n",
    "    update = { '$set': { 'Image': price1 } }\n",
    "    collection.update_one({ '_id': document_id }, update)\n",
    "\n",
    "print(\"Đã cập nhật thành công\")"
   ],
   "metadata": {
    "collapsed": false,
    "ExecuteTime": {
     "end_time": "2024-05-16T09:33:44.430560Z",
     "start_time": "2024-05-16T09:33:44.145048Z"
    }
   },
   "id": "4d27efe7ccae4e4f",
   "execution_count": 46
  },
  {
   "cell_type": "code",
   "outputs": [
    {
     "name": "stdout",
     "output_type": "stream",
     "text": [
      "156000\n"
     ]
    }
   ],
   "source": [
    "image_list = df1['price'].astype(int).values\n",
    "print(image_list[0])"
   ],
   "metadata": {
    "collapsed": false,
    "ExecuteTime": {
     "end_time": "2024-05-16T09:14:11.160384Z",
     "start_time": "2024-05-16T09:14:11.137229Z"
    }
   },
   "id": "c7e4fe2c2459dfe9",
   "execution_count": 18
  }
 ],
 "metadata": {
  "kernelspec": {
   "display_name": "Python 3",
   "language": "python",
   "name": "python3"
  },
  "language_info": {
   "codemirror_mode": {
    "name": "ipython",
    "version": 2
   },
   "file_extension": ".py",
   "mimetype": "text/x-python",
   "name": "python",
   "nbconvert_exporter": "python",
   "pygments_lexer": "ipython2",
   "version": "2.7.6"
  }
 },
 "nbformat": 4,
 "nbformat_minor": 5
}
>>>>>>> 00f91eae771904ead5c90320476ad40332f10a02
